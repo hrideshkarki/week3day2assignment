{
 "cells": [
  {
   "cell_type": "markdown",
   "metadata": {},
   "source": [
    "# Algorithms, Binary Search & Linked Lists"
   ]
  },
  {
   "cell_type": "markdown",
   "metadata": {},
   "source": [
    "## Tasks Today:\n",
    " \n",
    "1) <b>In-Place Algorithms</b> <br>\n",
    " &nbsp;&nbsp;&nbsp;&nbsp; a) Syntax <br>\n",
    " &nbsp;&nbsp;&nbsp;&nbsp; a) Out of Place Algorithm <br>\n",
    " &nbsp;&nbsp;&nbsp;&nbsp; b) In-Class Exercise #1 <br>\n",
    "2) <b>Two Pointers</b> <br>\n",
    "3) <b>Linked Lists</b> <br>\n",
    "4) <b>Merge Sort</b> <br>\n",
    " &nbsp;&nbsp;&nbsp;&nbsp; a) Video on Algorithms <br>\n",
    " &nbsp;&nbsp;&nbsp;&nbsp; b) How it Works <br>\n",
    "5) <b>Exercises</b> <br>\n",
    " &nbsp;&nbsp;&nbsp;&nbsp; a) Exercise #1 - Reverse a List in Place Using an In-Place Algorithm <br>\n",
    " &nbsp;&nbsp;&nbsp;&nbsp; b) Exercise #2 - Find Distinct Words <br>\n",
    " &nbsp;&nbsp;&nbsp;&nbsp; c) Exercise #3 - Write a program to implement a Linear Search Algorithm. <br>"
   ]
  },
  {
   "cell_type": "markdown",
   "metadata": {},
   "source": [
    "## In-Place Algorithms"
   ]
  },
  {
   "cell_type": "markdown",
   "metadata": {},
   "source": [
    "#### Syntax"
   ]
  },
  {
   "cell_type": "code",
   "execution_count": 1,
   "metadata": {},
   "outputs": [
    {
     "name": "stdout",
     "output_type": "stream",
     "text": [
      "Before: [5, 4, 1, 2]\n",
      "After:[5, 2, 1, 4]\n",
      "Output:None\n"
     ]
    }
   ],
   "source": [
    "def swap(nums, i1, i2):\n",
    "    temp = nums[i1]\n",
    "    nums[i1], nums[i2] = nums[i2], temp\n",
    "    \n",
    "my_num = [5,4,1,2]\n",
    "\n",
    "print(f'Before: {my_num}')\n",
    "\n",
    "output = swap(my_num, 1, 3)\n",
    "\n",
    "print(f'After:{my_num}')\n",
    "print(f'Output:{output}')\n",
    "\n"
   ]
  },
  {
   "cell_type": "markdown",
   "metadata": {},
   "source": [
    "#### Out of Place Algorithm"
   ]
  },
  {
   "cell_type": "code",
   "execution_count": 10,
   "metadata": {},
   "outputs": [
    {
     "name": "stdout",
     "output_type": "stream",
     "text": [
      "Before: [5, 4, 3, 2]\n",
      "After:[5, 4, 3, 2]\n",
      "Output:None\n"
     ]
    }
   ],
   "source": [
    "def swap(nums, i1, i2):\n",
    "    copy = nums[:]\n",
    "    \n",
    "my_num = [5,4,3,2]\n",
    "\n",
    "print(f'Before: {my_num}')\n",
    "\n",
    "output = swap(my_num, 1, 3)\n",
    "\n",
    "print(f'After:{my_num}')\n",
    "print(f'Output:{output}')\n",
    "\n"
   ]
  },
  {
   "cell_type": "markdown",
   "metadata": {},
   "source": [
    "#### In-Class Exercise #1 <br>\n",
    "<p>Write a function that takes in four arguments (list, index1, index2, index3), and swaps those three positions in the list passed in.</p>"
   ]
  },
  {
   "cell_type": "code",
   "execution_count": 9,
   "metadata": {},
   "outputs": [
    {
     "name": "stdout",
     "output_type": "stream",
     "text": [
      "Before: [10, 4, 3, 8, 4, 2, 6]\n"
     ]
    },
    {
     "ename": "NameError",
     "evalue": "name 'temp' is not defined",
     "output_type": "error",
     "traceback": [
      "\u001b[0;31m---------------------------------------------------------------------------\u001b[0m",
      "\u001b[0;31mNameError\u001b[0m                                 Traceback (most recent call last)",
      "\u001b[0;32m/var/folders/m5/zw0z50l12z1dvglbspw_5qsh0000gn/T/ipykernel_38588/1026152652.py\u001b[0m in \u001b[0;36m<module>\u001b[0;34m\u001b[0m\n\u001b[1;32m      9\u001b[0m \u001b[0mprint\u001b[0m\u001b[0;34m(\u001b[0m\u001b[0;34mf'Before: {l_1}'\u001b[0m\u001b[0;34m)\u001b[0m\u001b[0;34m\u001b[0m\u001b[0;34m\u001b[0m\u001b[0m\n\u001b[1;32m     10\u001b[0m \u001b[0;34m\u001b[0m\u001b[0m\n\u001b[0;32m---> 11\u001b[0;31m \u001b[0moutput\u001b[0m \u001b[0;34m=\u001b[0m \u001b[0mswap\u001b[0m\u001b[0;34m(\u001b[0m\u001b[0ml_1\u001b[0m\u001b[0;34m,\u001b[0m\u001b[0;36m0\u001b[0m\u001b[0;34m,\u001b[0m\u001b[0;36m1\u001b[0m\u001b[0;34m,\u001b[0m\u001b[0;36m2\u001b[0m\u001b[0;34m)\u001b[0m\u001b[0;34m\u001b[0m\u001b[0;34m\u001b[0m\u001b[0m\n\u001b[0m\u001b[1;32m     12\u001b[0m \u001b[0;34m\u001b[0m\u001b[0m\n\u001b[1;32m     13\u001b[0m \u001b[0mprint\u001b[0m\u001b[0;34m(\u001b[0m\u001b[0;34mf'After:{l_1}'\u001b[0m\u001b[0;34m)\u001b[0m\u001b[0;34m\u001b[0m\u001b[0;34m\u001b[0m\u001b[0m\n",
      "\u001b[0;32m/var/folders/m5/zw0z50l12z1dvglbspw_5qsh0000gn/T/ipykernel_38588/1026152652.py\u001b[0m in \u001b[0;36mswap\u001b[0;34m(nums, i1, i2, i3)\u001b[0m\n\u001b[1;32m      3\u001b[0m \u001b[0;32mdef\u001b[0m \u001b[0mswap\u001b[0m\u001b[0;34m(\u001b[0m\u001b[0mnums\u001b[0m\u001b[0;34m,\u001b[0m \u001b[0mi1\u001b[0m\u001b[0;34m,\u001b[0m \u001b[0mi2\u001b[0m\u001b[0;34m,\u001b[0m \u001b[0mi3\u001b[0m\u001b[0;34m)\u001b[0m\u001b[0;34m:\u001b[0m\u001b[0;34m\u001b[0m\u001b[0;34m\u001b[0m\u001b[0m\n\u001b[1;32m      4\u001b[0m     \u001b[0mcopy\u001b[0m \u001b[0;34m=\u001b[0m \u001b[0mlist\u001b[0m\u001b[0;34m[\u001b[0m\u001b[0;34m:\u001b[0m\u001b[0;34m]\u001b[0m\u001b[0;34m\u001b[0m\u001b[0;34m\u001b[0m\u001b[0m\n\u001b[0;32m----> 5\u001b[0;31m     \u001b[0mnums\u001b[0m\u001b[0;34m[\u001b[0m\u001b[0mi1\u001b[0m\u001b[0;34m]\u001b[0m\u001b[0;34m,\u001b[0m \u001b[0mnums\u001b[0m\u001b[0;34m[\u001b[0m\u001b[0mi2\u001b[0m\u001b[0;34m]\u001b[0m\u001b[0;34m,\u001b[0m \u001b[0mnum\u001b[0m\u001b[0;34m[\u001b[0m\u001b[0mi3\u001b[0m\u001b[0;34m]\u001b[0m \u001b[0;34m=\u001b[0m \u001b[0mnums\u001b[0m\u001b[0;34m[\u001b[0m\u001b[0mi2\u001b[0m\u001b[0;34m]\u001b[0m\u001b[0;34m,\u001b[0m \u001b[0mnums\u001b[0m\u001b[0;34m[\u001b[0m\u001b[0mi3\u001b[0m\u001b[0;34m]\u001b[0m\u001b[0;34m,\u001b[0m \u001b[0mtemp\u001b[0m\u001b[0;34m\u001b[0m\u001b[0;34m\u001b[0m\u001b[0m\n\u001b[0m\u001b[1;32m      6\u001b[0m \u001b[0;34m\u001b[0m\u001b[0m\n\u001b[1;32m      7\u001b[0m \u001b[0;34m\u001b[0m\u001b[0m\n",
      "\u001b[0;31mNameError\u001b[0m: name 'temp' is not defined"
     ]
    }
   ],
   "source": [
    "l_1 = [10, 4, 3, 8, 4, 2, 6]\n",
    "\n",
    "def swaps(nums, i1, i2, i3):\n",
    "    copy = list[:]\n",
    "    nums[i1], nums[i2], num[i3] = nums[i2], nums[i3], temp\n",
    "    \n",
    "    \n",
    "\n",
    "print(f'Before: {l_1}')\n",
    "\n",
    "output = swaps(l_1,0,1,2)\n",
    "\n",
    "print(f'After:{l_1}')\n",
    "print(f'Output:{output}')\n",
    "\n",
    "\n",
    "\n"
   ]
  },
  {
   "cell_type": "markdown",
   "metadata": {},
   "source": [
    "## Two Pointers"
   ]
  },
  {
   "cell_type": "markdown",
   "metadata": {},
   "source": [
    "#### Syntax"
   ]
  },
  {
   "cell_type": "code",
   "execution_count": 13,
   "metadata": {},
   "outputs": [
    {
     "name": "stdout",
     "output_type": "stream",
     "text": [
      "None\n",
      "[10, 9, 8, 7, 6]\n"
     ]
    }
   ],
   "source": [
    "def twoPointer(nums):\n",
    "    left = 0\n",
    "    right = len(nums)-1\n",
    "    \n",
    "    while left < right:\n",
    "        swap(nums, left, right)\n",
    "        left += 1\n",
    "        right -= 1\n",
    "    \n",
    "    \n",
    "nums=[10,9,8,7,6]\n",
    "print(twoPointer(nums))\n",
    "print(nums)\n",
    "\n",
    "# two pointer include window sliding problem, word search etc."
   ]
  },
  {
   "cell_type": "markdown",
   "metadata": {},
   "source": [
    "#### Video of Algorithms <br>\n",
    "<p>Watch the video about algorithms.</p>\n",
    "\n",
    "https://www.youtube.com/watch?v=Q9HjeFD62Uk\n",
    "\n",
    "https://www.youtube.com/watch?v=kPRA0W1kECg\n",
    "\n",
    "https://www.youtube.com/watch?v=ZZuD6iUe3Pc"
   ]
  },
  {
   "cell_type": "markdown",
   "metadata": {},
   "source": [
    "# Sorting Algorithms"
   ]
  },
  {
   "cell_type": "markdown",
   "metadata": {},
   "source": [
    "#### Bubble Sort\n",
    "\n",
    "Worst Case: O(n^2) Time - O(1) Space"
   ]
  },
  {
   "cell_type": "code",
   "execution_count": 18,
   "metadata": {},
   "outputs": [
    {
     "name": "stdout",
     "output_type": "stream",
     "text": [
      "21\n",
      "[20, 44, 55, 70, 80, 88, 100]\n"
     ]
    }
   ],
   "source": [
    "def swap(nums, i1, i2):\n",
    "    nums[i1], nums[i2] = nums[i2], nums[i1]\n",
    "    \n",
    "def bubbleSort(array):\n",
    "    \n",
    "    count = 0\n",
    "    \n",
    "    iteration = 0\n",
    "    isSorted = False\n",
    "    \n",
    "    \n",
    "\n",
    "    for _ in range(len(nums)):\n",
    "        for i in range(len(array)-1-count):\n",
    "            iteration += 1\n",
    "            if nums[i] > nums[i+1]:\n",
    "                swap(nums, i, i+1)\n",
    "                \n",
    "        count += 1\n",
    "        \n",
    "    print(iteration)\n",
    "    \n",
    "nums = [44,55,100,80, 70,20,88]            \n",
    "bubbleSort(nums)\n",
    "print(nums)"
   ]
  },
  {
   "cell_type": "markdown",
   "metadata": {},
   "source": [
    "##### Insertion Sort\n",
    "\n",
    "Worst Case: O(n^2) time - O(1)space"
   ]
  },
  {
   "cell_type": "code",
   "execution_count": 25,
   "metadata": {},
   "outputs": [
    {
     "name": "stdout",
     "output_type": "stream",
     "text": [
      "[23, 41, 44, 54, 66, 89]\n"
     ]
    }
   ],
   "source": [
    "def swap(nums, i1, i2):\n",
    "    nums[i1], nums[i2] = nums[i2], nums[i1]\n",
    "\n",
    "def insertionSort(nums):\n",
    "    for i in range(1, len(nums)):\n",
    "        j = i\n",
    "        while j > 0 and nums[j] < nums[j-1]:\n",
    "            swap(nums, j, j-1)\n",
    "            j -= 1\n",
    "            \n",
    "nums = [44,41,66, 23, 54, 89]\n",
    "insertionSort(nums)\n",
    "print(nums)\n",
    "\n",
    "        \n",
    "    "
   ]
  },
  {
   "cell_type": "markdown",
   "metadata": {},
   "source": [
    "## Merge Sort"
   ]
  },
  {
   "cell_type": "markdown",
   "metadata": {},
   "source": [
    "#### How it Works"
   ]
  },
  {
   "cell_type": "code",
   "execution_count": 37,
   "metadata": {},
   "outputs": [
    {
     "name": "stdout",
     "output_type": "stream",
     "text": [
      "[20, 17, 7, 7, 15, 13] BEFORE\n",
      "Splitting [20, 17, 7, 7, 15, 13]\n",
      "Splitting [20, 17, 7]\n",
      "Splitting [20]\n",
      "Merging [20]\n",
      "Splitting [17, 7]\n",
      "Splitting [17]\n",
      "Merging [17]\n",
      "Splitting [7]\n",
      "Merging [7]\n",
      "Merging [7, 17]\n",
      "Merging [7, 17, 20]\n",
      "Splitting [7, 15, 13]\n",
      "Splitting [7]\n",
      "Merging [7]\n",
      "Splitting [15, 13]\n",
      "Splitting [15]\n",
      "Merging [15]\n",
      "Splitting [13]\n",
      "Merging [13]\n",
      "Merging [13, 15]\n",
      "Merging [7, 13, 15]\n",
      "Merging [7, 7, 13, 15, 17, 20]\n",
      "[7, 7, 13, 15, 17, 20] AFTER\n"
     ]
    }
   ],
   "source": [
    "def mergeSort(nums):\n",
    "    print('Splitting', nums)\n",
    "    # recurisve case\n",
    "    if len(nums)>1:\n",
    "        # split my list\n",
    "        mid = len(nums)//2\n",
    "        lefthalf = nums[:mid]\n",
    "        righthalf = nums[mid:]\n",
    "        \n",
    "        # then recursive sort each half\n",
    "        mergeSort(lefthalf)\n",
    "        mergeSort(righthalf)\n",
    "        \n",
    "        # define the index pointers for our 3 lists (left, right, and main lists)\n",
    "        l, r , m = 0, 0, 0\n",
    "        \n",
    "        while l < len(lefthalf) and r < len(righthalf):\n",
    "            if lefthalf[l] < righthalf[r]:\n",
    "                nums[m] = lefthalf[l]\n",
    "                l += 1\n",
    "            else:\n",
    "                nums[m] = righthalf[r]\n",
    "                r += 1\n",
    "            m += 1\n",
    "        \n",
    "        # fill in the leftover from which ever side is not done yet\n",
    "        # filling out the left side\n",
    "        while l < len(lefthalf):\n",
    "            nums[m] = lefthalf[l]\n",
    "            l += 1\n",
    "            m += 1\n",
    "        # filling outr the right side\n",
    "        while r < len(righthalf):\n",
    "            nums[m] = righthalf[r]\n",
    "            r += 1\n",
    "            m += 1\n",
    "            \n",
    "        \n",
    "        \n",
    "    # base case\n",
    "    else:\n",
    "        # since this is in-place, i don't need to do anything\n",
    "        # i.e the smmallest list of size one is by default, already sorted. no need to do anything\n",
    "        pass\n",
    "    print('Merging', nums)\n",
    "    \n",
    "    \n",
    "from random import randint\n",
    "nums = [randint(0,20) for _ in range(6)]\n",
    "print(nums, \"BEFORE\")\n",
    "mergeSort(nums)\n",
    "print(nums, 'AFTER')\n",
    "\n",
    "\n"
   ]
  },
  {
   "cell_type": "markdown",
   "metadata": {},
   "source": [
    "# Binary Search\n",
    "\n",
    "The Binary Search algorithm works by finding the number in the middle of a given array and comparing it to the target. Given that the array is sorted\n",
    "\n",
    "* The worst case run time for this algorithm is `O(log(n))`"
   ]
  },
  {
   "cell_type": "code",
   "execution_count": null,
   "metadata": {},
   "outputs": [],
   "source": [
    "def binarySearch(nums, target):\n",
    "    left = 0\n",
    "    right = len(nums)-1\n",
    "    while left <= right:\n",
    "        mid = (left+right)//2\n",
    "        if target == nums[mid]:\n",
    "            return f'i found it. The target is {mid}.'\n",
    "        elif target < nums[mid]:\n",
    "            right = mid -1 \n",
    "        elif target > nums[mid]:\n",
    "            right = mid + 1\n",
    "    return f\"What you're looking for is not in the list.\"\n",
    "\n",
    "binarySearch([22,33,44,55,66,77,88], 99)\n",
    "\n",
    "        "
   ]
  },
  {
   "cell_type": "markdown",
   "metadata": {},
   "source": [
    "# Exercises"
   ]
  },
  {
   "cell_type": "markdown",
   "metadata": {},
   "source": [
    "### Exercise #1 <br>\n",
    "<p>Reverse the list below in-place using an in-place algorithm.<br>For extra credit: Reverse the strings at the same time.</p>"
   ]
  },
  {
   "cell_type": "code",
   "execution_count": 26,
   "metadata": {},
   "outputs": [
    {
     "name": "stdout",
     "output_type": "stream",
     "text": [
      "['.', 'ecnetnes', 'a', 'si', 'siht']\n"
     ]
    }
   ],
   "source": [
    "words = ['this' , 'is', 'a', 'sentence', '.']\n",
    "\n",
    "def reverse_list(words):\n",
    "    left = 0 \n",
    "    right = len(words)-1\n",
    "    \n",
    "    while left < right:\n",
    "        words[left], words[right] = words[right], words[left]\n",
    "        left += 1\n",
    "        right -= 1\n",
    "        \n",
    "    for i in range(len(words)):\n",
    "        words[i]=words[i][::-1]\n",
    "    print(words)    \n",
    "    \n",
    "reverse_list(words)"
   ]
  },
  {
   "cell_type": "markdown",
   "metadata": {
    "tags": []
   },
   "source": [
    "### Exercise #2 <br>\n",
    "<p>Create a function that counts how many distinct words are in the string below, then outputs a dictionary with the words as the key and the value as the amount of times that word appears in the string.<br>Should output:<br>{'a': 5,<br>\n",
    " 'abstract': 1,<br>\n",
    " 'an': 3,<br>\n",
    " 'array': 2, ... etc...</p>"
   ]
  },
  {
   "cell_type": "code",
   "execution_count": 11,
   "metadata": {},
   "outputs": [
    {
     "name": "stdout",
     "output_type": "stream",
     "text": [
      "{'in': 1, 'computing': 1, 'a': 5, 'hash': 4, 'table': 2, 'map': 2, 'is': 1, 'data': 2, 'structure': 2, 'which': 2, 'implements': 1, 'an': 3, 'associative': 1, 'array': 2, 'abstract': 1, 'type': 1, 'that': 1, 'can': 2, 'keys': 1, 'to': 2, 'values': 1, 'uses': 1, 'function': 1, 'compute': 1, 'index': 1, 'into': 1, 'of': 1, 'buckets': 1, 'or': 1, 'slots': 1, 'from': 1, 'the': 1, 'desired': 1, 'value': 1, 'be': 1, 'found': 1}\n"
     ]
    }
   ],
   "source": [
    "a_text = 'In computing, a hash table hash map is a data structure which implements an associative array abstract data type, a structure that can map keys to values. A hash table uses a hash function to compute an index into an array of buckets or slots from which the desired value can be found'\n",
    "\n",
    "def counter(a_text):\n",
    "    words = a_text.lower().replace(',',' ').replace('.',' ').split()\n",
    "    \n",
    "    \n",
    "    count={}\n",
    "    for word in words:\n",
    "        if word not in count:\n",
    "            count[word] = 1\n",
    "        else:\n",
    "            count[word]+=1\n",
    "            \n",
    "    return count\n",
    "            \n",
    "count = counter(a_text)\n",
    "print(count)"
   ]
  },
  {
   "cell_type": "markdown",
   "metadata": {},
   "source": [
    "## Exercise #3\n",
    "\n",
    "Write a program to implement a Linear Search Algorithm. Also in a comment, write the Time Complexity of the following algorithm.\n",
    "\n",
    "#### Hint: Linear Searching will require searching a list for a given number. "
   ]
  },
  {
   "cell_type": "code",
   "execution_count": 17,
   "metadata": {},
   "outputs": [
    {
     "name": "stdout",
     "output_type": "stream",
     "text": [
      "3 found at index 3\n"
     ]
    }
   ],
   "source": [
    "def linear_search(arr, target):\n",
    "    for i in range(len(arr)):\n",
    "        if arr[i] == target:\n",
    "            return i\n",
    "    return -1 \n",
    "\n",
    "\n",
    "my_list = [4, 7, 1, 3, 9, 5]\n",
    "target_value = 3\n",
    "result = linear_search(my_list, target_value)\n",
    "if result != -1:\n",
    "    print(f\"{target_value} found at index {result}\")\n",
    "else:\n",
    "    print(f\"{target_value} not found in the list\")"
   ]
  },
  {
   "cell_type": "code",
   "execution_count": null,
   "metadata": {},
   "outputs": [],
   "source": []
  }
 ],
 "metadata": {
  "kernelspec": {
   "display_name": "Python 3 (ipykernel)",
   "language": "python",
   "name": "python3"
  },
  "language_info": {
   "codemirror_mode": {
    "name": "ipython",
    "version": 3
   },
   "file_extension": ".py",
   "mimetype": "text/x-python",
   "name": "python",
   "nbconvert_exporter": "python",
   "pygments_lexer": "ipython3",
   "version": "3.9.13"
  }
 },
 "nbformat": 4,
 "nbformat_minor": 4
}
